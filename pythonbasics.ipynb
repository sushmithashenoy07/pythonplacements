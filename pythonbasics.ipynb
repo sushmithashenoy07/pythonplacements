{
 "cells": [
  {
   "cell_type": "code",
   "execution_count": 1,
   "id": "f426a359-be1f-4982-a7b2-5554f5f18cd7",
   "metadata": {},
   "outputs": [
    {
     "name": "stdin",
     "output_type": "stream",
     "text": [
      "enter the student's marks: 40\n"
     ]
    },
    {
     "name": "stdout",
     "output_type": "stream",
     "text": [
      "fail\n"
     ]
    }
   ],
   "source": [
    "marks=int(input(\"enter the student's marks:\"))\n",
    "\n",
    "if marks>=80:\n",
    "    print(\"distinction\")\n",
    "elif marks >=60 and marks<80:\n",
    "    print(\"pass\")\n",
    "else:\n",
    "    print(\"fail\")  "
   ]
  },
  {
   "cell_type": "code",
   "execution_count": 2,
   "id": "789b50be-bacb-4bad-8da7-43709d96711e",
   "metadata": {},
   "outputs": [],
   "source": [
    "#to check prime,write a program to generate prime numbers from 1 to n\n",
    "#check if n is strong or not,sum of factorial of individual digits is equal to the number itself\n",
    "#check if n is armstrong number or not\n",
    "#check if a number is happy number or not\n",
    "#check if a number is neon number or not\n",
    "#check if a number is spy number or not\n",
    "#write a program to generate the fibonnaci series and fibonnaci number of a given number n\n",
    "#write a program to check if a number is palindrome or not\n",
    "#convert number from negative to positive\n",
    "#leap year\n",
    "#factorial of a number\n"
   ]
  },
  {
   "cell_type": "code",
   "execution_count": 3,
   "id": "2ed1280b-5365-470c-b427-6128c7723c82",
   "metadata": {},
   "outputs": [],
   "source": [
    "def is_prime(n):\n",
    "  if n <= 1:\n",
    "    return False\n",
    "  for i in range(2, int(n**0.5) + 1):\n",
    "    if n % i == 0:\n",
    "      return False\n",
    "  return True\n",
    "\n",
    "def generate_primes(n):\n",
    "  primes = []\n",
    "  for i in range(2, n + 1):\n",
    "    if is_prime(i):\n",
    "      primes.append(i)\n",
    "  return primes\n"
   ]
  },
  {
   "cell_type": "code",
   "execution_count": 4,
   "id": "aa7238e9-09a8-417e-8255-be12e4837674",
   "metadata": {},
   "outputs": [
    {
     "name": "stdout",
     "output_type": "stream",
     "text": [
      "Prime numbers between 1 and 40: [2, 3, 5, 7, 11, 13, 17, 19, 23, 29, 31, 37]\n"
     ]
    }
   ],
   "source": [
    "# Example usage:\n",
    "n = 40\n",
    "prime_numbers = generate_primes(n)\n",
    "print(f\"Prime numbers between 1 and {n}: {prime_numbers}\")"
   ]
  },
  {
   "cell_type": "code",
   "execution_count": 5,
   "id": "5f2bf937-2b9b-4851-bc9f-5b4bbd22d03b",
   "metadata": {},
   "outputs": [
    {
     "name": "stdin",
     "output_type": "stream",
     "text": [
      "enter a number 40\n"
     ]
    },
    {
     "name": "stdout",
     "output_type": "stream",
     "text": [
      "40 is not a prime number\n"
     ]
    }
   ],
   "source": [
    "num = int(input(\"enter a number\"))\n",
    "# If given number is greater than 1\n",
    "if num > 1:\n",
    "    # Iterate from 2 to n // 2\n",
    "    for i in range(2, (num//2)+1):\n",
    "        # If num is divisible by any number between\n",
    "        # 2 and n / 2, it is not prime\n",
    "        if (num % i) == 0:\n",
    "            print(num, \"is not a prime number\")\n",
    "            break\n",
    "    else:\n",
    "        print(num, \"is a prime number\")\n",
    "else:\n",
    "    print(num, \"is not a prime number\")"
   ]
  },
  {
   "cell_type": "code",
   "execution_count": 6,
   "id": "e7bc5029-58d5-4ad9-9caa-0f6bf68fc404",
   "metadata": {},
   "outputs": [
    {
     "name": "stdout",
     "output_type": "stream",
     "text": [
      "245\n"
     ]
    }
   ],
   "source": [
    "n=-245\n",
    "p=abs(n)\n",
    "print(p)"
   ]
  },
  {
   "cell_type": "code",
   "execution_count": 8,
   "id": "69e79246-6053-4b3f-9de6-f3b034c67504",
   "metadata": {},
   "outputs": [
    {
     "name": "stdin",
     "output_type": "stream",
     "text": [
      "enter a number: 5\n"
     ]
    },
    {
     "name": "stdout",
     "output_type": "stream",
     "text": [
      "the number is not a strong number\n"
     ]
    }
   ],
   "source": [
    "#strong number\n",
    "num=int(input(\"enter a number:\"))\n",
    "sum=0\n",
    "temp=num\n",
    "while(num!=0):\n",
    "    i=1\n",
    "    f=1\n",
    "    r=num%10\n",
    "    while(i<=r):\n",
    "        f=f*i\n",
    "        i=i+1\n",
    "    sum=sum+f\n",
    "    num=num//10\n",
    "if(sum==temp):\n",
    "    print(\"the number is a strong number\")\n",
    "else:\n",
    "    print(\"the number is not a strong number\")"
   ]
  },
  {
   "cell_type": "code",
   "execution_count": 37,
   "id": "551e4d4a-dd5c-4efc-b902-b185809b21df",
   "metadata": {},
   "outputs": [
    {
     "name": "stdin",
     "output_type": "stream",
     "text": [
      "enter a number: 2\n"
     ]
    },
    {
     "name": "stdout",
     "output_type": "stream",
     "text": [
      "is an armstrong number\n"
     ]
    }
   ],
   "source": [
    "num=int(input(\"enter a number:\"))\n",
    "order=len(str(num))\n",
    "sum=0\n",
    "temp=num\n",
    "while (num!=0):\n",
    "    r=num%10\n",
    "    d=r**order\n",
    "    sum=sum+d\n",
    "    num=num//10\n",
    "if (sum==temp):\n",
    "    print(\"is an armstrong number\")\n",
    "else:\n",
    "    print(\"not armstrong number\")\n",
    "    \n",
    "\n",
    "\n",
    "\n",
    "\n"
   ]
  },
  {
   "cell_type": "code",
   "execution_count": 42,
   "id": "3788b1ef-15fe-405d-b3eb-455f06aa05e0",
   "metadata": {},
   "outputs": [
    {
     "name": "stdin",
     "output_type": "stream",
     "text": [
      " enter a number:  175\n"
     ]
    },
    {
     "name": "stdout",
     "output_type": "stream",
     "text": [
      "not neon\n"
     ]
    }
   ],
   "source": [
    "num=int(input(\" enter a number: \"))\n",
    "square=num*num\n",
    "temp=num\n",
    "sum=0\n",
    "while(square!=0):\n",
    "    r=square%10\n",
    "    sum=sum+r\n",
    "    square=square//10\n",
    "if(sum==temp):\n",
    "    print(\"neon\")\n",
    "else:\n",
    "    print(\"not neon\")"
   ]
  },
  {
   "cell_type": "code",
   "execution_count": 45,
   "id": "a6e80ebf-bbf2-465b-8863-33c00cf71b96",
   "metadata": {},
   "outputs": [
    {
     "name": "stdin",
     "output_type": "stream",
     "text": [
      "enter a number 1421\n"
     ]
    },
    {
     "name": "stdout",
     "output_type": "stream",
     "text": [
      "is a spy number\n"
     ]
    }
   ],
   "source": [
    "num=int(input(\"enter a number\"))\n",
    "temp=num\n",
    "sum=0\n",
    "product=1\n",
    "while(num>0):\n",
    "    d=num%10\n",
    "    sum=sum+d\n",
    "    product=product*d\n",
    "    num=num//10\n",
    "if(sum==product):\n",
    "    print(\"is a spy number\")\n",
    "else:\n",
    "    print(\"not a spy number\")\n",
    "    "
   ]
  },
  {
   "cell_type": "code",
   "execution_count": null,
   "id": "3fe26824-e885-463a-9d8a-e9206eb8846c",
   "metadata": {},
   "outputs": [],
   "source": [
    "name=int(input(\"enter name:\"))\n",
    "year=2002\n",
    "age=2024-year\n"
   ]
  },
  {
   "cell_type": "code",
   "execution_count": null,
   "id": "801b5a24-1777-4e31-b3db-ce9c27ca403d",
   "metadata": {},
   "outputs": [],
   "source": []
  },
  {
   "cell_type": "markdown",
   "id": "3ee609e8-03b1-4733-8ba8-3534bc2bf00d",
   "metadata": {},
   "source": [
    "num=int(input(\"enter a number\"))\n",
    "temp=num\n",
    "sum=0\n",
    "product=1\n",
    "while(num>0):\n",
    "\n",
    "\n",
    "\n"
   ]
  }
 ],
 "metadata": {
  "kernelspec": {
   "display_name": "Python 3 (ipykernel)",
   "language": "python",
   "name": "python3"
  },
  "language_info": {
   "codemirror_mode": {
    "name": "ipython",
    "version": 3
   },
   "file_extension": ".py",
   "mimetype": "text/x-python",
   "name": "python",
   "nbconvert_exporter": "python",
   "pygments_lexer": "ipython3",
   "version": "3.12.3"
  }
 },
 "nbformat": 4,
 "nbformat_minor": 5
}
